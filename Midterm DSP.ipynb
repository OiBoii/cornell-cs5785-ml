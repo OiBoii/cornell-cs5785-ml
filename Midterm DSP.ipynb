{
  "nbformat": 4,
  "nbformat_minor": 0,
  "metadata": {
    "colab": {
      "name": "Midterm.ipynb",
      "provenance": [],
      "collapsed_sections": [],
      "toc_visible": true,
      "authorship_tag": "ABX9TyNK9InqeYrqWEA5eQhuTjoa",
      "include_colab_link": true
    },
    "kernelspec": {
      "name": "python3",
      "display_name": "Python 3"
    }
  },
  "cells": [
    {
      "cell_type": "markdown",
      "metadata": {
        "id": "view-in-github",
        "colab_type": "text"
      },
      "source": [
        "<a href=\"https://colab.research.google.com/github/OiBoii/cornell-cs5785-ml/blob/master/Midterm%20DSP.ipynb\" target=\"_parent\"><img src=\"https://colab.research.google.com/assets/colab-badge.svg\" alt=\"Open In Colab\"/></a>"
      ]
    },
    {
      "cell_type": "markdown",
      "metadata": {
        "id": "XUEBmQaG1Z9W"
      },
      "source": [
        "# DSP - Midterm \n",
        "## DTMF + Goertzel Algorithm\n",
        "Omer Ifrach (oi38)\n",
        "\n"
      ]
    },
    {
      "cell_type": "code",
      "metadata": {
        "id": "ahD6-G9scQQK"
      },
      "source": [
        "import numpy as np\n",
        "from scipy.io import wavfile\n",
        "import seaborn as sb\n",
        "import pandas as pd"
      ],
      "execution_count": 1,
      "outputs": []
    },
    {
      "cell_type": "code",
      "metadata": {
        "id": "9uPhH3TdcTJO",
        "outputId": "7a936f83-448a-457b-d478-2ac5820a56bb",
        "colab": {
          "base_uri": "https://localhost:8080/",
          "height": 235
        }
      },
      "source": [
        "# obtains wav sample rate (8000Hz) & data (array of magitudes magnitude)\n",
        "samplerate, data = wavfile.read('mystery.wav')\n",
        "N = 205\n",
        "fs = np.array([697, 770, 852, 941, 1209, 1336, 1477, 1633])\n",
        "\n",
        "print(f\"\"\"Data:\n",
        "--------------------------------------------------------------------------\n",
        "Standard bin size:   N = {N} Samples\n",
        "--------------------------------------------------------------------------\n",
        "Sampling Frequency:  {samplerate}Hz\n",
        "--------------------------------------------------------------------------\n",
        "Sampling Data:       {data}\n",
        "--------------------------------------------------------------------------\n",
        "Frequency Values:    {fs}\n",
        "--------------------------------------------------------------------------\n",
        "\n",
        "\"\"\")\n"
      ],
      "execution_count": 2,
      "outputs": [
        {
          "output_type": "stream",
          "text": [
            "Data:\n",
            "--------------------------------------------------------------------------\n",
            "Standard bin size:   N = 205 Samples\n",
            "--------------------------------------------------------------------------\n",
            "Sampling Frequency:  8000Hz\n",
            "--------------------------------------------------------------------------\n",
            "Sampling Data:       [  4348   2748   1436 ... -10364  -5628   -180]\n",
            "--------------------------------------------------------------------------\n",
            "Frequency Values:    [ 697  770  852  941 1209 1336 1477 1633]\n",
            "--------------------------------------------------------------------------\n",
            "\n",
            "\n"
          ],
          "name": "stdout"
        }
      ]
    },
    {
      "cell_type": "code",
      "metadata": {
        "id": "hOYgI_31cTQA"
      },
      "source": [
        "# Gortzel's Algortihm: takes sample (N samples values, k values)\n",
        "def goertzel(bin_data, k):\n",
        "    # initializing intermediate values of s[n]\n",
        "    sn1 = 0 \n",
        "    sn2 = 0\n",
        "    \n",
        "    # coefficients branching from s[n-1]\n",
        "    cf1 = 2 * np.cos(2 * np.pi * k / len(bin_data))\n",
        "    cf2 = -1 * np.exp(-2 * np.pi * k / len(bin_data))\n",
        "\n",
        "    yn1 = 0  # initialize final output y[n-1]\n",
        "    a = 0.95 # signal 'damper' for low pass filter \n",
        "    \n",
        "    # looping through bin samples\n",
        "    for i in range(len(bin_data)):\n",
        "  \n",
        "        sn = bin_data[i] + cf1 * sn1 - sn2 # current sample\n",
        "        sn2 = sn1 # second shift\n",
        "        sn1 = sn # first shift\n",
        "        yn = sn + cf2 * sn1 # Gortzel's output\n",
        "        \n",
        "        # squaring the Goertzel output y[n] to ensure positive value\n",
        "        temp_power = np.abs(yn)**2 \n",
        "    \n",
        "        # first order filter: damp current n & sum with weighted sample average\n",
        "        power = (1 - a) * temp_power + a * yn1\n",
        "       \n",
        "        yn1 = power  \n",
        "\n",
        "    return power\n"
      ],
      "execution_count": 4,
      "outputs": []
    },
    {
      "cell_type": "code",
      "metadata": {
        "id": "kDojpRAinI4L"
      },
      "source": [
        "# splitting samples into N-sized bins\n",
        "def split_beans(data, N):\n",
        "    base_N = 205 # ensures same starting points for all N sizes\n",
        "    n_bins = 1 + (len(data)-N) // (base_N) # accounts for last offset\n",
        "    num_of_samples = n_bins * (base_N-1) + N # total samples taken from data set\n",
        "\n",
        "    sampled_data = data[:num_of_samples]\n",
        "    bins = [sampled_data[i : i + N] for i in range(0, num_of_samples, base_N)]\n",
        "\n",
        "    return bins"
      ],
      "execution_count": 5,
      "outputs": []
    },
    {
      "cell_type": "code",
      "metadata": {
        "id": "2M4LiwWuqxsU"
      },
      "source": [
        "# determine the coefficient of each k for every bin\n",
        "def goertzeling(N_size, frequencies):\n",
        "    k_vals = np.rint((frequencies * N_size) / samplerate) # calculate ks\n",
        "    bins = split_beans(data, N_size) # divide sample into N-sized bins\n",
        "    k_powers = fs_sweep(bins, k_vals, N_size) # exe gortzel for each k\n",
        "    return k_powers"
      ],
      "execution_count": 6,
      "outputs": []
    },
    {
      "cell_type": "code",
      "metadata": {
        "id": "B8H50MEyyltW"
      },
      "source": [
        "# Perform Goertzel's Algorithm for each k for each bin\n",
        "def fs_sweep(bins, ks, N_size):\n",
        "    scan = []\n",
        "    for k in ks: # For every k in the list of ks\n",
        "        k_scan = [] \n",
        "        for b in bins: # For every bin in the list of bins\n",
        "            power = goertzel(b, k) # Record the result of Goertzel filter\n",
        "            k_scan.append(power)\n",
        "        scan.append(k_scan)\n",
        "    scan = np.array(scan) # Turn list into numpy array\n",
        "    return scan"
      ],
      "execution_count": 7,
      "outputs": []
    },
    {
      "cell_type": "code",
      "metadata": {
        "id": "YYOzG8lAhY1i",
        "outputId": "702f104c-c82d-46ea-ec16-a78d193f3c59",
        "colab": {
          "base_uri": "https://localhost:8080/",
          "height": 281
        }
      },
      "source": [
        "# Visualizing frequency intensity per bin (credit: Eli Russos)\n",
        "fs_gortzel = goertzeling(N, fs)\n",
        "fs_map = sb.heatmap(fs_gortzel, yticklabels=fs).set_title(\"Frequency Intensity Per Bin\")"
      ],
      "execution_count": 8,
      "outputs": [
        {
          "output_type": "display_data",
          "data": {
            "image/png": "[encoded data removed]",
            "text/plain": [
              "<Figure size 432x288 with 2 Axes>"
            ]
          },
          "metadata": {
            "tags": [],
            "needs_background": "light"
          }
        }
      ]
    },
    {
      "cell_type": "code",
      "metadata": {
        "id": "5LVjvlEQfwj_",
        "outputId": "43b5186b-2484-424e-ad97-c43130d5e888",
        "colab": {
          "base_uri": "https://localhost:8080/",
          "height": 281
        }
      },
      "source": [
        "# Thresholding values and using boolean to expose the potential touchtones\n",
        "threshold =  10 ** 11\n",
        "fs_truth_table = fs_gortzel > threshold\n",
        "fs_truth_map = sb.heatmap(fs_truth_table, yticklabels=fs).set_title(\"Dominant Frequencies Per Bin\")"
      ],
      "execution_count": 9,
      "outputs": [
        {
          "output_type": "display_data",
          "data": {
            "image/png": "[encoded data removed]",
            "text/plain": [
              "<Figure size 432x288 with 2 Axes>"
            ]
          },
          "metadata": {
            "tags": [],
            "needs_background": "light"
          }
        }
      ]
    },
    {
      "cell_type": "code",
      "metadata": {
        "id": "Tt0ZBw-7yv9X",
        "outputId": "0102c32a-01b8-4d7f-d16e-1406406d165b",
        "colab": {
          "base_uri": "https://localhost:8080/",
          "height": 281
        }
      },
      "source": [
        "# repeating visualization for harmonic frequecies \n",
        "N2 =210\n",
        "hfs = fs*2\n",
        "threshold =   10 ** 11\n",
        "\n",
        "# identifying harmonic noise\n",
        "h_goertzel = goertzeling(N2, hfs)\n",
        "h_truth_table = h_goertzel > threshold\n",
        "h_truth_map = sb.heatmap(h_truth_table, yticklabels=hfs).set_title(\"Dominant Harmonic Per Bin\")"
      ],
      "execution_count": 12,
      "outputs": [
        {
          "output_type": "display_data",
          "data": {
            "image/png": "[encoded data removed]",
            "text/plain": [
              "<Figure size 432x288 with 2 Axes>"
            ]
          },
          "metadata": {
            "tags": [],
            "needs_background": "light"
          }
        }
      ]
    },
    {
      "cell_type": "code",
      "metadata": {
        "id": "woca99u6apit"
      },
      "source": [
        "# truth table for touchtone keys (credit: Eli Russos)\n",
        "\n",
        "numpad_map = {\n",
        "# 697   770    852    941   1209   1336   1477   1633\n",
        "(True, False, False, False, True, False, False, False) : \"1\",\n",
        "(True, False, False, False, False, True, False, False) : \"2\",\n",
        "(True, False, False, False, False, False, True, False) : \"3\",\n",
        "(True, False, False, False, False, False, False, True) : \"A\",\n",
        "\n",
        "(False, True, False, False, True, False, False, False) : \"4\",\n",
        "(False, True, False, False, False, True, False, False) : \"5\",\n",
        "(False, True, False, False, False, False, True, False) : \"6\",\n",
        "(False, True, False, False, False, False, False, True) : \"B\",\n",
        "\n",
        "(False, False, True, False, True, False, False, False) : \"7\",\n",
        "(False, False, True, False, False, True, False, False) : \"8\",\n",
        "(False, False, True, False, False, False, True, False) : \"9\",\n",
        "(False, False, True, False, False, False, False, True) : \"C\",\n",
        "\n",
        "(False, False, False, True, True, False, False, False) : \"*\",\n",
        "(False, False, False, True, False, True, False, False) : \"0\",\n",
        "(False, False, False, True, False, False, True, False) : \"#\",\n",
        "(False, False, False, True, False, False, False, True) : \"D\",\n",
        "}\n",
        "\n",
        "# transposing table so that time is on x-axis [n, k]\n",
        "fs_truth_table = fs_truth_table.T  \n",
        "h_truth_table = h_truth_table.T "
      ],
      "execution_count": 13,
      "outputs": []
    },
    {
      "cell_type": "code",
      "metadata": {
        "id": "DxzsBLdMyJLE",
        "outputId": "8546168d-4c1a-42ac-e268-ee6f888038b4",
        "colab": {
          "base_uri": "https://localhost:8080/",
          "height": 35
        }
      },
      "source": [
        "\n",
        "phone_number = '' \n",
        "\n",
        "temp = None  # previous value\n",
        "\n",
        "for t in range(len(fs_truth_table)):\n",
        "    # identifying truth table patterns to assign numeric / null value.\n",
        "    num = numpad_map.get(tuple(fs_truth_table[t]), None)\n",
        "    \n",
        "    # if a number was identified and the previous value is none - add to phone number\n",
        "    if num != None and temp == None:\n",
        "       \n",
        "        # Check whether second harmonic is present\n",
        "        both_true = np.logical_and(fs_truth_table[t], h_truth_table[t])\n",
        "       \n",
        "        if not both_true.any():\n",
        "            phone_number += num # Valid key press gets recorded\n",
        "    \n",
        "    temp = num\n",
        "    \n",
        "print(phone_number)\n",
        "# print(\"Eight-Six-Seven-Five-Three-O'-Na-ee-aa-iiin\")"
      ],
      "execution_count": 14,
      "outputs": [
        {
          "output_type": "stream",
          "text": [
            "8675309\n"
          ],
          "name": "stdout"
        }
      ]
    }
  ]
}